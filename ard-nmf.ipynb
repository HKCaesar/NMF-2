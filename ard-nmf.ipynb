{
 "cells": [
  {
   "cell_type": "markdown",
   "metadata": {},
   "source": [
    "# NMF for Mutation Signatures using Automatic Relevance Determination"
   ]
  },
  {
   "cell_type": "markdown",
   "metadata": {},
   "source": [
    "$V$ is a $F \\times N$ matrix called the mutation matrix. Each column of $V$ represents the prevelance of one type of mutation, and each row represents a different cancer genome. "
   ]
  },
  {
   "cell_type": "markdown",
   "metadata": {},
   "source": [
    "We wish to factorize $V$ into two matrices, $W$, $H$ such that $$ V \\approx WH ,$$ where $W$ is a $F \\times K$ matrix and $H$ is a $K \n",
    "\\times N$ matrix."
   ]
  },
  {
   "cell_type": "markdown",
   "metadata": {},
   "source": [
    "The matrices $W$ and $H$ are linked through the vector $\\lambda.$ ARD NMF comes in two varieties, $\\ell_1$ and $\\ell_2$, which differ slightly in implementation.  "
   ]
  },
  {
   "cell_type": "code",
   "execution_count": 8,
   "metadata": {},
   "outputs": [],
   "source": [
    "import numpy as np\n",
    "\n",
    "def makeRandom(m,n):\n",
    "    \"\"\"Function that returns a random mxn matrix\"\"\"\n",
    "    return np.random.rand(m,n)\n"
   ]
  },
  {
   "cell_type": "code",
   "execution_count": 9,
   "metadata": {},
   "outputs": [],
   "source": [
    "from copy import deepcopy\n",
    "\n",
    "def e(beta):\n",
    "    if(beta<=2):\n",
    "        return 1/(3-beta)\n",
    "    return 1/(beta-1)\n",
    "\n",
    "def gamma(beta):\n",
    "    if(beta<1):\n",
    "        return 1/(2-beta)\n",
    "    if(1<=beta<=2):\n",
    "        return 1\n",
    "    return 1/(beta-1)\n",
    "\n",
    "def d(beta,x,y):\n",
    "    if(beta==1):\n",
    "        return x * np.log(x/y)/np.log(10) - x + y\n",
    "    if(beta==0):\n",
    "        return x/y - np.log(x/y)/np.log(10)-1\n",
    "    return x**beta/(beta*(beta-1)) + y**beta/beta - (x*y**(beta-1))/(beta-1)\n",
    "\n",
    "def D(beta,V,WH):\n",
    "    return sum([d(beta,V.item(i),WH.item(i)) for i in range(V.size)])\n",
    "\n"
   ]
  },
  {
   "cell_type": "code",
   "execution_count": 11,
   "metadata": {},
   "outputs": [],
   "source": [
    "def ard(V,k,a,beta,tau,phi,max_iter=300,ltype=\"l2\"):\n",
    "    EPSILON=10**-6\n",
    "    INFINITY = 10000000\n",
    "    \n",
    "    #Defining the dimensions of the matrix\n",
    "    f = V.shape[0]\n",
    "    n = V.shape[1]\n",
    "\n",
    "    #Track changes in lambda through time (Lambda is matrix of size k)\n",
    "    lambdaList = np.zeros((max_iter,k))\n",
    "\n",
    "    #Add small values of epsilon to prevent divide by zero errors\n",
    "    V=np.add(V,EPSILON)\n",
    "\n",
    "    meanV = np.sum(V)/(f*n)\n",
    "\n",
    "    #Why initialize like this?\n",
    "    W = (makeRandom(f,k)+1)*(meanV**.5/k)\n",
    "    H = (makeRandom(k,n)+1)*(meanV**.5/k)\n",
    "    b = np.pi * (a-1)*meanV/(2*k)\n",
    "\n",
    "    c = f+n+a+1\n",
    "    if(ltype==\"l2\"):\n",
    "        c = (f+n)/2 + a+1\n",
    "        \n",
    "    lamb = (np.sum(W**2,axis=0).T/2 + np.sum(H**2,axis=1)/2 + b)/c\n",
    "    lambdaList[0] = lamb\n",
    "    tol = INFINITY\n",
    "\n",
    "    expfunc = gamma\n",
    "    if(ltype==\"l2\"):\n",
    "        expfunc = e\n",
    "\n",
    "    iteration = 1\n",
    "    while(tol>tau and iteration<max_iter):\n",
    "        #Update H\n",
    "        top = W.T.dot((W.dot(H)**(beta-2)) * V)\n",
    "        bottom = W.T.dot(W.dot(H)**(beta-1))\n",
    "        if(ltype==\"l1\"):\n",
    "            bottom+=phi/np.tile(np.array([lamb]).T,(1,n))\n",
    "        elif(ltype==\"l2\"):\n",
    "            bottom+=phi*H/np.tile(np.array([lamb]).T,(1,n))\n",
    "        \n",
    "        allElements=H>0\n",
    "        #Checking for NaN\n",
    "        if(((top/bottom)**(expfunc(beta)))[0,0]!=((top/bottom)**(expfunc(beta)))[0,0]):\n",
    "            break\n",
    "        H[allElements] = H[allElements]*((top/bottom)**expfunc(beta))[allElements]\n",
    "\n",
    "        #Update W\n",
    "        top = (W.dot(H)**(beta-2)*V).dot(H.T)\n",
    "        bottom = (W.dot(H)**(beta-1)).dot(H.T)\n",
    "        if(ltype==\"l1\"):\n",
    "            bottom+=phi/np.tile(np.array([lamb]),(f,1))\n",
    "        elif(ltype==\"l2\"):\n",
    "            bottom+=phi*W/np.tile(np.array([lamb]),(f,1))\n",
    "\n",
    "        allElements=W>0\n",
    "        #Checking for NaN\n",
    "        if(((top/bottom)[0,0]**(expfunc(beta)))!=((top/bottom)**(expfunc(beta)))[0,0]):\n",
    "            break\n",
    "        W[allElements] = W[allElements] * ((top/bottom)**expfunc(beta))[allElements]\n",
    "\n",
    "        exp = 1\n",
    "        if(ltype==\"l2\"):\n",
    "            exp=2\n",
    "        lamb = (np.sum(W**exp,axis=0).T/2 + np.sum(H**exp,axis=1)/2 + b)/c\n",
    "        lambdaList[iteration] = lamb\n",
    "        previous = lambdaList[iteration-1]\n",
    "        tol = max((lamb-previous)/previous)\n",
    "\n",
    "        #To avoid division by Zero problems, I'm not sure if this is needed\n",
    "        if(0 in W or 0 in H):\n",
    "            iteration = max_iter\n",
    "            \n",
    "        iteration+=1\n",
    "\n",
    "    #Avoid divide by zero errors elsewhere \n",
    "    W+=EPSILON\n",
    "    H+=EPSILON\n",
    "    return (W,H)"
   ]
  }
 ],
 "metadata": {
  "kernelspec": {
   "display_name": "Python 3",
   "language": "python",
   "name": "python3"
  },
  "language_info": {
   "codemirror_mode": {
    "name": "ipython",
    "version": 3
   },
   "file_extension": ".py",
   "mimetype": "text/x-python",
   "name": "python",
   "nbconvert_exporter": "python",
   "pygments_lexer": "ipython3",
   "version": "3.5.2"
  }
 },
 "nbformat": 4,
 "nbformat_minor": 2
}
